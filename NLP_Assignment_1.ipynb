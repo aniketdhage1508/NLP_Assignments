{
  "nbformat": 4,
  "nbformat_minor": 0,
  "metadata": {
    "colab": {
      "provenance": []
    },
    "kernelspec": {
      "name": "python3",
      "display_name": "Python 3"
    },
    "language_info": {
      "name": "python"
    }
  },
  "cells": [
    {
      "cell_type": "markdown",
      "source": [
        "**Perform tokenization (Whitespace, Punctuation-based, Treebank, Tweet, MWE) using NLTK library. Use porter stemmer and snowball stemmer for stemming. Use any technique for lemmatization.**"
      ],
      "metadata": {
        "id": "JqmviPwPVe8T"
      }
    },
    {
      "cell_type": "code",
      "execution_count": null,
      "metadata": {
        "colab": {
          "base_uri": "https://localhost:8080/"
        },
        "id": "drUK7RBtb2CE",
        "outputId": "cdb106a4-6c66-4df5-91b3-2432b9fef91c"
      },
      "outputs": [
        {
          "output_type": "stream",
          "name": "stderr",
          "text": [
            "[nltk_data] Downloading package punkt to /root/nltk_data...\n",
            "[nltk_data]   Package punkt is already up-to-date!\n",
            "[nltk_data] Downloading package stopwords to /root/nltk_data...\n",
            "[nltk_data]   Package stopwords is already up-to-date!\n",
            "[nltk_data] Downloading package averaged_perceptron_tagger to\n",
            "[nltk_data]     /root/nltk_data...\n",
            "[nltk_data]   Package averaged_perceptron_tagger is already up-to-\n",
            "[nltk_data]       date!\n",
            "[nltk_data] Downloading package wordnet to /root/nltk_data...\n",
            "[nltk_data]   Package wordnet is already up-to-date!\n",
            "[nltk_data] Downloading package averaged_perceptron_tagger_eng to\n",
            "[nltk_data]     /root/nltk_data...\n",
            "[nltk_data]   Package averaged_perceptron_tagger_eng is already up-to-\n",
            "[nltk_data]       date!\n"
          ]
        },
        {
          "output_type": "execute_result",
          "data": {
            "text/plain": [
              "True"
            ]
          },
          "metadata": {},
          "execution_count": 19
        }
      ],
      "source": [
        "import nltk\n",
        "from nltk.tokenize import word_tokenize, regexp_tokenize, TreebankWordTokenizer, TweetTokenizer\n",
        "from nltk.stem import PorterStemmer, SnowballStemmer\n",
        "from nltk.corpus import stopwords\n",
        "from nltk.tokenize import MWETokenizer\n",
        "from nltk.stem import WordNetLemmatizer\n",
        "\n",
        "# Ensure you have the necessary NLTK resources\n",
        "nltk.download('punkt')\n",
        "nltk.download('stopwords')\n",
        "nltk.download('averaged_perceptron_tagger')\n",
        "nltk.download('wordnet')\n",
        "nltk.download('averaged_perceptron_tagger_eng')\n"
      ]
    },
    {
      "cell_type": "code",
      "source": [
        "text = \"The phone is great! Battery life is excellent, and the camera quality is amazing. Definitely worth the price.\"\n",
        "\n",
        "# Whitespace Tokenization\n",
        "whitespace_tokens = text.split()\n",
        "print(\"Whitespace Tokenization:\", whitespace_tokens)\n"
      ],
      "metadata": {
        "colab": {
          "base_uri": "https://localhost:8080/"
        },
        "id": "89sFf7iocBkR",
        "outputId": "ed6b665b-d455-4cbe-95a1-5ccad42c6c39"
      },
      "execution_count": null,
      "outputs": [
        {
          "output_type": "stream",
          "name": "stdout",
          "text": [
            "Whitespace Tokenization: ['The', 'phone', 'is', 'great!', 'Battery', 'life', 'is', 'excellent,', 'and', 'the', 'camera', 'quality', 'is', 'amazing.', 'Definitely', 'worth', 'the', 'price.']\n"
          ]
        }
      ]
    },
    {
      "cell_type": "code",
      "source": [
        "# Punctuation-based Tokenization using regexp_tokenize\n",
        "punctuation_tokens = regexp_tokenize(text, pattern=r'\\s|[\\.,;?!\"]')\n",
        "print(\"Punctuation-based Tokenization:\", punctuation_tokens)\n"
      ],
      "metadata": {
        "colab": {
          "base_uri": "https://localhost:8080/"
        },
        "id": "QSCcBkR8cDYE",
        "outputId": "452b56d7-e3af-4206-8df6-8f675762bddf"
      },
      "execution_count": null,
      "outputs": [
        {
          "output_type": "stream",
          "name": "stdout",
          "text": [
            "Punctuation-based Tokenization: [' ', ' ', ' ', '!', ' ', ' ', ' ', ' ', ',', ' ', ' ', ' ', ' ', ' ', ' ', '.', ' ', ' ', ' ', ' ', '.']\n"
          ]
        }
      ]
    },
    {
      "cell_type": "code",
      "source": [
        "# Treebank Tokenization\n",
        "treebank_tokenizer = TreebankWordTokenizer()\n",
        "treebank_tokens = treebank_tokenizer.tokenize(text)\n",
        "print(\"Treebank Tokenization:\", treebank_tokens)\n"
      ],
      "metadata": {
        "colab": {
          "base_uri": "https://localhost:8080/"
        },
        "id": "OV15r4kfcE7w",
        "outputId": "68c72bd0-b302-4286-b39a-6454c001f4bb"
      },
      "execution_count": null,
      "outputs": [
        {
          "output_type": "stream",
          "name": "stdout",
          "text": [
            "Treebank Tokenization: ['The', 'phone', 'is', 'great', '!', 'Battery', 'life', 'is', 'excellent', ',', 'and', 'the', 'camera', 'quality', 'is', 'amazing.', 'Definitely', 'worth', 'the', 'price', '.']\n"
          ]
        }
      ]
    },
    {
      "cell_type": "code",
      "source": [
        "# Tweet Tokenization\n",
        "tweet_tokenizer = TweetTokenizer()\n",
        "tweet_tokens = tweet_tokenizer.tokenize(text)\n",
        "print(\"Tweet Tokenization:\", tweet_tokens)\n"
      ],
      "metadata": {
        "colab": {
          "base_uri": "https://localhost:8080/"
        },
        "id": "5XaiW608cGTk",
        "outputId": "9599f5b1-feac-424d-e461-aa633c969cbb"
      },
      "execution_count": null,
      "outputs": [
        {
          "output_type": "stream",
          "name": "stdout",
          "text": [
            "Tweet Tokenization: ['The', 'phone', 'is', 'great', '!', 'Battery', 'life', 'is', 'excellent', ',', 'and', 'the', 'camera', 'quality', 'is', 'amazing', '.', 'Definitely', 'worth', 'the', 'price', '.']\n"
          ]
        }
      ]
    },
    {
      "cell_type": "code",
      "source": [
        "# Multi-Word Expression Tokenization (MWE)\n",
        "mwe_phrases = [('New York', 'New York')]\n",
        "mwe_tokenizer = MWETokenizer(mwe_phrases)\n",
        "mwe_tokens = mwe_tokenizer.tokenize(text.split())\n",
        "print(\"MWE Tokenization:\", mwe_tokens)\n"
      ],
      "metadata": {
        "colab": {
          "base_uri": "https://localhost:8080/"
        },
        "id": "DuibQBWacHzZ",
        "outputId": "a0954763-721a-483f-c514-aba810ff0a2c"
      },
      "execution_count": null,
      "outputs": [
        {
          "output_type": "stream",
          "name": "stdout",
          "text": [
            "MWE Tokenization: ['The', 'phone', 'is', 'great!', 'Battery', 'life', 'is', 'excellent,', 'and', 'the', 'camera', 'quality', 'is', 'amazing.', 'Definitely', 'worth', 'the', 'price.']\n"
          ]
        }
      ]
    },
    {
      "cell_type": "code",
      "source": [
        "# Porter Stemmer\n",
        "porter_stemmer = PorterStemmer()\n",
        "porter_stems = [porter_stemmer.stem(word) for word in treebank_tokens]\n",
        "print(\"Porter Stemmer:\", porter_stems)\n"
      ],
      "metadata": {
        "colab": {
          "base_uri": "https://localhost:8080/"
        },
        "id": "qkCJGWPqcJ49",
        "outputId": "97e0e7d6-b28f-4571-888a-62f728903488"
      },
      "execution_count": null,
      "outputs": [
        {
          "output_type": "stream",
          "name": "stdout",
          "text": [
            "Porter Stemmer: ['the', 'phone', 'is', 'great', '!', 'batteri', 'life', 'is', 'excel', ',', 'and', 'the', 'camera', 'qualiti', 'is', 'amazing.', 'definit', 'worth', 'the', 'price', '.']\n"
          ]
        }
      ]
    },
    {
      "cell_type": "code",
      "source": [
        "# Snowball Stemmer\n",
        "snowball_stemmer = SnowballStemmer('english')\n",
        "snowball_stems = [snowball_stemmer.stem(word) for word in treebank_tokens]\n",
        "print(\"Snowball Stemmer:\", snowball_stems)\n"
      ],
      "metadata": {
        "colab": {
          "base_uri": "https://localhost:8080/"
        },
        "id": "EKUYOv3icMfl",
        "outputId": "6b6b0860-680e-4841-8bbd-35911b5ce0a3"
      },
      "execution_count": null,
      "outputs": [
        {
          "output_type": "stream",
          "name": "stdout",
          "text": [
            "Snowball Stemmer: ['the', 'phone', 'is', 'great', '!', 'batteri', 'life', 'is', 'excel', ',', 'and', 'the', 'camera', 'qualiti', 'is', 'amazing.', 'definit', 'worth', 'the', 'price', '.']\n"
          ]
        }
      ]
    },
    {
      "cell_type": "code",
      "source": [
        "# Lemmatization using WordNet Lemmatizer\n",
        "lemmatizer = WordNetLemmatizer()\n",
        "\n",
        "# Lemmatize with POS tagging\n",
        "pos_tags = nltk.pos_tag(treebank_tokens)\n",
        "lemmatized_words = []\n",
        "\n",
        "for word, tag in pos_tags:\n",
        "    if tag.startswith('V'):  # If the word is a verb\n",
        "        lemma = lemmatizer.lemmatize(word, pos='v')\n",
        "    elif tag.startswith('N'):  # If the word is a noun\n",
        "        lemma = lemmatizer.lemmatize(word, pos='n')\n",
        "    else:\n",
        "        lemma = lemmatizer.lemmatize(word)\n",
        "    lemmatized_words.append(lemma)\n",
        "\n",
        "print(\"Lemmatized Words:\", lemmatized_words)\n"
      ],
      "metadata": {
        "colab": {
          "base_uri": "https://localhost:8080/"
        },
        "id": "Xviv6kW1cNt9",
        "outputId": "c6e4b67d-2976-4a54-9a04-6db6f342fef0"
      },
      "execution_count": null,
      "outputs": [
        {
          "output_type": "stream",
          "name": "stdout",
          "text": [
            "Lemmatized Words: ['The', 'phone', 'be', 'great', '!', 'Battery', 'life', 'be', 'excellent', ',', 'and', 'the', 'camera', 'quality', 'be', 'amazing.', 'Definitely', 'worth', 'the', 'price', '.']\n"
          ]
        }
      ]
    }
  ]
}