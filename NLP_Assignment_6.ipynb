{
  "nbformat": 4,
  "nbformat_minor": 0,
  "metadata": {
    "colab": {
      "provenance": []
    },
    "kernelspec": {
      "name": "python3",
      "display_name": "Python 3"
    },
    "language_info": {
      "name": "python"
    }
  },
  "cells": [
    {
      "cell_type": "markdown",
      "source": [
        "**Use a more advanced model for sentiment analysis**"
      ],
      "metadata": {
        "id": "C-BfDAUywTga"
      }
    },
    {
      "cell_type": "code",
      "execution_count": null,
      "metadata": {
        "id": "k-00uC8irAGp"
      },
      "outputs": [],
      "source": [
        "from transformers import pipeline"
      ]
    },
    {
      "cell_type": "code",
      "source": [
        "model1_Name_Actual = \"Roberta\"\n",
        "model1_name = \"cardiffnlp/twitter-roberta-base-sentiment\"\n",
        "sa_pipeline1 = pipeline(\"sentiment-analysis\", model=model1_name)"
      ],
      "metadata": {
        "colab": {
          "base_uri": "https://localhost:8080/"
        },
        "id": "iKBn5R-frA7X",
        "outputId": "700f0719-9503-4906-93cf-e508ba2f2b2e"
      },
      "execution_count": null,
      "outputs": [
        {
          "output_type": "stream",
          "name": "stderr",
          "text": [
            "Device set to use cpu\n"
          ]
        }
      ]
    },
    {
      "cell_type": "code",
      "source": [
        "model2_Name_Actual = \"Distilbert\"\n",
        "model2_name = \"distilbert-base-uncased-finetuned-sst-2-english\"\n",
        "sa_pipeline2 = pipeline(\"sentiment-analysis\", model=model2_name)"
      ],
      "metadata": {
        "colab": {
          "base_uri": "https://localhost:8080/"
        },
        "id": "r93QxOuRrDZJ",
        "outputId": "380948d5-e746-4789-a4e3-5728516b6262"
      },
      "execution_count": null,
      "outputs": [
        {
          "output_type": "stream",
          "name": "stderr",
          "text": [
            "Device set to use cpu\n"
          ]
        }
      ]
    },
    {
      "cell_type": "code",
      "source": [
        "label_map = {\n",
        "    \"LABEL_0\": \"NEGATIVE\",\n",
        "    \"LABEL_1\": \"NEUTRAL\",\n",
        "    \"LABEL_2\": \"POSITIVE\"\n",
        "}"
      ],
      "metadata": {
        "id": "-lViNKX-rEoU"
      },
      "execution_count": null,
      "outputs": []
    },
    {
      "cell_type": "code",
      "source": [
        "texts = [\n",
        "    \"I absolutely love this product! It's amazing.\",\n",
        "    \"The experience was terrible, I would not recommend it.\",\n",
        "    \"The movie was okay, not the best but not the worst either.\"\n",
        "]"
      ],
      "metadata": {
        "id": "8eDDJnO7rFqu"
      },
      "execution_count": null,
      "outputs": []
    },
    {
      "cell_type": "code",
      "source": [
        "def ensemble_sentiment(text):\n",
        "    result1 = sa_pipeline1(text)[0]\n",
        "    result2 = sa_pipeline2(text)[0]\n",
        "\n",
        "    label1 = label_map.get(result1[\"label\"], result1[\"label\"])\n",
        "    label2 = result2[\"label\"].capitalize()\n",
        "\n",
        "    if label1 == label2:\n",
        "        final_label = label1\n",
        "    else:\n",
        "        final_label = label1 if result1[\"score\"] >= result2[\"score\"] else label2\n",
        "\n",
        "    return {\n",
        "        \"text\": text,\n",
        "        \"model1\": {\"label\": label1, \"score\": result1[\"score\"]},\n",
        "        \"model2\": result2,\n",
        "        \"ensemble\": final_label\n",
        "    }"
      ],
      "metadata": {
        "id": "49Ev64LsrGl1"
      },
      "execution_count": null,
      "outputs": []
    },
    {
      "cell_type": "code",
      "source": [
        "for text in texts:\n",
        "    result = ensemble_sentiment(text)\n",
        "    print(f\"Text: {result['text']}\")\n",
        "    print(f\" Model 1 ({model1_Name_Actual}): {result['model1']}\")\n",
        "    print(f\" Model 2 ({model2_Name_Actual}): {result['model2']}\")\n",
        "    print(f\" Ensemble Sentiment: {result['ensemble']}\")\n",
        "    print(\"-\" * 60)"
      ],
      "metadata": {
        "colab": {
          "base_uri": "https://localhost:8080/"
        },
        "id": "XMDZKM9prHhd",
        "outputId": "61735932-7043-468d-ac6b-4259acfc002f"
      },
      "execution_count": null,
      "outputs": [
        {
          "output_type": "stream",
          "name": "stdout",
          "text": [
            "Text: I absolutely love this product! It's amazing.\n",
            " Model 1 (Roberta): {'label': 'POSITIVE', 'score': 0.9922341108322144}\n",
            " Model 2 (Distilbert): {'label': 'POSITIVE', 'score': 0.9998855590820312}\n",
            " Ensemble Sentiment: Positive\n",
            "------------------------------------------------------------\n",
            "Text: The experience was terrible, I would not recommend it.\n",
            " Model 1 (Roberta): {'label': 'NEGATIVE', 'score': 0.9805479049682617}\n",
            " Model 2 (Distilbert): {'label': 'NEGATIVE', 'score': 0.9979416728019714}\n",
            " Ensemble Sentiment: Negative\n",
            "------------------------------------------------------------\n",
            "Text: The movie was okay, not the best but not the worst either.\n",
            " Model 1 (Roberta): {'label': 'NEUTRAL', 'score': 0.4815260171890259}\n",
            " Model 2 (Distilbert): {'label': 'NEGATIVE', 'score': 0.8492290377616882}\n",
            " Ensemble Sentiment: Negative\n",
            "------------------------------------------------------------\n"
          ]
        }
      ]
    }
  ]
}