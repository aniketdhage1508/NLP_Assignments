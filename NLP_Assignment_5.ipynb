{
  "nbformat": 4,
  "nbformat_minor": 0,
  "metadata": {
    "colab": {
      "provenance": []
    },
    "kernelspec": {
      "name": "python3",
      "display_name": "Python 3"
    },
    "language_info": {
      "name": "python"
    }
  },
  "cells": [
    {
      "cell_type": "markdown",
      "source": [
        "**Morphology is the study of the way words are built up from smaller meaning bearing units.Study and understand the concepts of morphology by the use of add delete table.**"
      ],
      "metadata": {
        "id": "oTSbXugTwMkq"
      }
    },
    {
      "cell_type": "code",
      "source": [
        "class WordMorph:\n",
        "    def __init__(self):\n",
        "        self.word_map = {\n",
        "            \"help\": \"helpful\",\n",
        "            \"happy\": \"unhappy\",\n",
        "            \"read\": \"reading\",\n",
        "            \"nation\": \"national\",\n",
        "            \"child\": \"children\",\n",
        "            \"act\": \"actor\",\n",
        "            \"run\": \"runner\",\n",
        "            \"govern\": \"government\",\n",
        "            \"write\": \"rewrite\",\n",
        "            \"develop\": \"development\",\n",
        "            \"strong\": \"strengthen\",\n",
        "            \"beauty\": \"beautiful\",\n",
        "            \"kind\": \"kindness\",\n",
        "            \"create\": \"creation\",\n",
        "            \"love\": \"lovely\",\n",
        "            \"move\": \"movement\",\n",
        "            \"history\": \"historical\",\n",
        "            \"nature\": \"natural\",\n",
        "            \"music\": \"musical\",\n",
        "            \"friend\": \"friendship\",\n",
        "            \"danger\": \"dangerous\"\n",
        "        }\n",
        "\n",
        "    def apply_affix(self, term):\n",
        "        return self.word_map.get(term, \"[Error] No affixation rule available.\")\n",
        "\n",
        "    def remove_affix(self, modified_term):\n",
        "        for original, altered in self.word_map.items():\n",
        "            if altered == modified_term:\n",
        "                return original\n",
        "        return \"[Error] No corresponding base word found.\"\n",
        "\n",
        "    def show_word_transformations(self):\n",
        "        header = \"{:<12} | {:<21} | {:<12} | {:<21} | {:<12}\".format(\"Base Word\", \"Affix Added\", \"New Word\", \"Affix Removed\", \"Base Word\")\n",
        "        divider = \"-\" * len(header)\n",
        "        print(divider)\n",
        "        print(header)\n",
        "        print(divider)\n",
        "        for original, altered in self.word_map.items():\n",
        "            affix_part = altered.replace(original, \"\")\n",
        "            print(\"{:<12} | +{:<20} | {:<12} | -{:<20} | {:<12}\".format(original, affix_part, altered, affix_part, original))\n",
        "        print(divider)"
      ],
      "metadata": {
        "id": "2kLJvIabpf_L"
      },
      "execution_count": null,
      "outputs": []
    },
    {
      "cell_type": "code",
      "source": [
        "morph_tool = WordMorph()\n",
        "morph_tool.show_word_transformations()\n",
        "\n",
        "# User Interaction\n",
        "base_input = input(\"Type a base word to apply an affix: \").strip().lower()\n",
        "print(\"→ Resulting word:\", morph_tool.apply_affix(base_input))\n",
        "\n",
        "modified_input = input(\"Type a word with an affix to extract its base: \").strip().lower()\n",
        "print(\"→ Extracted root word:\", morph_tool.remove_affix(modified_input))"
      ],
      "metadata": {
        "colab": {
          "base_uri": "https://localhost:8080/"
        },
        "id": "uhc55iw8qCPE",
        "outputId": "da17fd84-9c75-4553-9ba8-c51674a34213"
      },
      "execution_count": null,
      "outputs": [
        {
          "output_type": "stream",
          "name": "stdout",
          "text": [
            "------------------------------------------------------------------------------------------\n",
            "Base Word    | Affix Added           | New Word     | Affix Removed         | Base Word   \n",
            "------------------------------------------------------------------------------------------\n",
            "help         | +ful                  | helpful      | -ful                  | help        \n",
            "happy        | +un                   | unhappy      | -un                   | happy       \n",
            "read         | +ing                  | reading      | -ing                  | read        \n",
            "nation       | +al                   | national     | -al                   | nation      \n",
            "child        | +ren                  | children     | -ren                  | child       \n",
            "act          | +or                   | actor        | -or                   | act         \n",
            "run          | +ner                  | runner       | -ner                  | run         \n",
            "govern       | +ment                 | government   | -ment                 | govern      \n",
            "write        | +re                   | rewrite      | -re                   | write       \n",
            "develop      | +ment                 | development  | -ment                 | develop     \n",
            "strong       | +strengthen           | strengthen   | -strengthen           | strong      \n",
            "beauty       | +beautiful            | beautiful    | -beautiful            | beauty      \n",
            "kind         | +ness                 | kindness     | -ness                 | kind        \n",
            "create       | +creation             | creation     | -creation             | create      \n",
            "love         | +ly                   | lovely       | -ly                   | love        \n",
            "move         | +ment                 | movement     | -ment                 | move        \n",
            "history      | +historical           | historical   | -historical           | history     \n",
            "nature       | +natural              | natural      | -natural              | nature      \n",
            "music        | +al                   | musical      | -al                   | music       \n",
            "friend       | +ship                 | friendship   | -ship                 | friend      \n",
            "danger       | +ous                  | dangerous    | -ous                  | danger      \n",
            "------------------------------------------------------------------------------------------\n",
            "Type a base word to apply an affix: govern\n",
            "→ Resulting word: government\n",
            "Type a word with an affix to extract its base: kindness\n",
            "→ Extracted root word: kind\n"
          ]
        }
      ]
    }
  ]
}